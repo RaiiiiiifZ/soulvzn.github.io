{
  "nbformat": 4,
  "nbformat_minor": 0,
  "metadata": {
    "colab": {
      "provenance": [],
      "gpuType": "T4",
      "include_colab_link": true
    },
    "kernelspec": {
      "name": "python3",
      "display_name": "Python 3"
    },
    "language_info": {
      "name": "python"
    },
    "accelerator": "GPU"
  },
  "cells": [
    {
      "cell_type": "markdown",
      "metadata": {
        "id": "view-in-github",
        "colab_type": "text"
      },
      "source": [
        "<a href=\"https://colab.research.google.com/github/RaiiiiiifZ/soulvzn.github.io/blob/main/FaceFusion_Colab.ipynb\" target=\"_parent\"><img src=\"https://colab.research.google.com/assets/colab-badge.svg\" alt=\"Open In Colab\"/></a>"
      ]
    },
    {
      "cell_type": "markdown",
      "source": [
        "ENH ENH ENH ENH LE CACA BOUDIN MIAMMMMM [un autre collab\n",
        "](https://xnxx.com/scatophile)"
      ],
      "metadata": {
        "id": "vvA_FNCLxcmQ"
      }
    },
    {
      "cell_type": "code",
      "source": [
        "# 1. Cloner FaceFusion\n",
        "!git clone https://github.com/facefusion/facefusion.git\n",
        "%cd facefusion\n",
        "\n",
        "# 2. Installer les dépendances\n",
        "!pip install -r requirements.txt\n",
        "!pip install onnxruntime-gpu\n",
        "\n",
        "# 3. Lancer FaceFusion avec partage activé (Gradio)\n",
        "!python facefusion.py run --share"
      ],
      "metadata": {
        "id": "0jTbOBlv2C3o"
      },
      "execution_count": null,
      "outputs": []
    }
  ]
}